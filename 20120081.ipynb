{
 "cells": [
  {
   "attachments": {},
   "cell_type": "markdown",
   "metadata": {},
   "source": [
    "# Sinh viên 1: Nguyễn Mậu Trọng Hiếu - 20120081\n",
    "# ...\n",
    "# Lớp 20TN"
   ]
  },
  {
   "cell_type": "code",
   "execution_count": 4,
   "metadata": {},
   "outputs": [],
   "source": [
    "# import libraries\n",
    "import os\n",
    "import shutil\n",
    "import random\n",
    "import time\n",
    "import math\n",
    "import matplotlib.pyplot as plt\n",
    "import numpy as np\n",
    "import random"
   ]
  },
  {
   "cell_type": "code",
   "execution_count": 5,
   "metadata": {},
   "outputs": [],
   "source": [
    "# from test_primarily import *"
   ]
  },
  {
   "cell_type": "code",
   "execution_count": 34,
   "metadata": {},
   "outputs": [],
   "source": [
    "# generated test will be stored in this folder\n",
    "route_test = \"generated_test\"\n",
    "\n",
    "try:\n",
    "    shutil.rmtree(route_test)\n",
    "except:\n",
    "    pass\n",
    "\n",
    "try:\n",
    "    os.mkdir(route_test)\n",
    "except:\n",
    "    pass\n",
    "\n",
    "SEED = 42\n",
    "random.seed(SEED)"
   ]
  },
  {
   "cell_type": "code",
   "execution_count": 49,
   "metadata": {},
   "outputs": [],
   "source": [
    "# trick to count number of comparisons\n",
    "def inc(x):\n",
    "    x[0] = x[0] + 1\n",
    "    return True\n",
    "\n",
    "def measure_time(func, *args):\n",
    "    start = time.time()\n",
    "    results = func(*args)\n",
    "    end = time.time()\n",
    "    return end - start, results\n",
    "\n",
    "def plot_run_times(run_times, steps):\n",
    "    x = steps\n",
    "    for algorithm, run_time in run_times.items():\n",
    "        plt.plot(x, run_time, label=algorithm)\n",
    "    plt.xlabel('Input Size (Number of Digits)')\n",
    "    plt.ylabel('Run Time (Seconds)')\n",
    "    plt.legend()\n",
    "    plt.show()\n",
    "\n",
    "def plot_comparisons(comparisons, steps):\n",
    "    x = steps\n",
    "    for algorithm, comparison in comparisons.items():\n",
    "        plt.plot(x, comparison, label=algorithm)\n",
    "    plt.xlabel('Input Size (Number of Digits)')\n",
    "    plt.ylabel('Number of Comparisons')\n",
    "    plt.legend()\n",
    "    plt.show()"
   ]
  },
  {
   "cell_type": "code",
   "execution_count": 50,
   "metadata": {},
   "outputs": [],
   "source": [
    "def generate_random_number(n_digits):\n",
    "    return random.randint(10**(n_digits - 1), 10**n_digits)"
   ]
  },
  {
   "cell_type": "code",
   "execution_count": 51,
   "metadata": {},
   "outputs": [],
   "source": [
    "def naive_o_n(n):\n",
    "    comparisons = [0]\n",
    "    if inc(comparisons) and n < 2:\n",
    "        return False, comparisons[0]\n",
    "    for i in range(2, n):\n",
    "        if inc(comparisons) and n % i == 0:\n",
    "            return False, comparisons[0]\n",
    "    return True, comparisons[0]\n",
    "\n",
    "def naive_o_sqrt_n(n):\n",
    "    comparisons = [0]\n",
    "    if inc(comparisons) and n < 2:\n",
    "        return False, comparisons[0]\n",
    "    for i in range(2, int(math.sqrt(n))):\n",
    "        if inc(comparisons) and n % i == 0:\n",
    "            return False, comparisons[0]\n",
    "    return True, comparisons[0]"
   ]
  },
  {
   "cell_type": "code",
   "execution_count": 52,
   "metadata": {},
   "outputs": [
    {
     "data": {
      "image/png": "[encoded data removed]",
      "text/plain": [
       "<Figure size 432x288 with 1 Axes>"
      ]
     },
     "metadata": {
      "needs_background": "light"
     },
     "output_type": "display_data"
    },
    {
     "data": {
      "image/png": "[encoded data removed]",
      "text/plain": [
       "<Figure size 432x288 with 1 Axes>"
      ]
     },
     "metadata": {
      "needs_background": "light"
     },
     "output_type": "display_data"
    }
   ],
   "source": [
    "list_of_algo = [naive_o_n]\n",
    "run_times = {}\n",
    "comparisons_count = {}\n",
    "\n",
    "# init dictionary\n",
    "for func in list_of_algo:\n",
    "    run_times[func.__name__] = {}\n",
    "    comparisons_count[func.__name__] = {}\n",
    "\n",
    "n_digts = range(1, 7, 1)\n",
    "n_repeat = 10\n",
    "for n_digt in n_digts:\n",
    "    for repeat in range(n_repeat):\n",
    "        save_path = os.path.join(route_test, f'test_case_{n_digt}_digit_{repeat}_repeat.txt')\n",
    "        with open(save_path, 'w') as f:\n",
    "            number = generate_random_number(n_digt)\n",
    "            f.write('Input: ' + str(number) + '\\n')\n",
    "\n",
    "            check_ans = []\n",
    "            for func in list_of_algo:\n",
    "                run_time, results = measure_time(func, number)\n",
    "                results, comparisons = results\n",
    "                # print(func.__name__, ':', run_time, 's')\n",
    "                try:\n",
    "                    run_times[func.__name__][repeat].append(run_time)\n",
    "                    comparisons_count[func.__name__][repeat].append(comparisons)\n",
    "                except:\n",
    "                    run_times[func.__name__][repeat] = [run_time]\n",
    "                    comparisons_count[func.__name__][repeat] = [comparisons]\n",
    "                check_ans.append(results)\n",
    "\n",
    "            # Kiểm tra đáp án của các thuật toán có giống nhau không\n",
    "            assert check_ans.count(check_ans[0]) == len(check_ans), 'Các thuật toán không trả về đáp án giống nhau'            \n",
    "\n",
    "avg_run_times = {}\n",
    "avg_comparisons_count = {}\n",
    "\n",
    "for func in list_of_algo:\n",
    "    calculate_run_time = []\n",
    "    calculate_comparisons_count = []\n",
    "    for repeat in range(n_repeat):\n",
    "        calculate_run_time.append(run_times[func.__name__][repeat])\n",
    "        calculate_comparisons_count.append(comparisons_count[func.__name__][repeat])\n",
    "    avg_run_times[func.__name__] = np.mean(calculate_run_time, axis=0)\n",
    "    avg_comparisons_count[func.__name__] = np.mean(calculate_comparisons_count, axis=0)\n",
    "\n",
    "plot_run_times(avg_run_times, n_digts)\n",
    "plot_comparisons(avg_comparisons_count, n_digts)\n"
   ]
  },
  {
   "attachments": {},
   "cell_type": "markdown",
   "metadata": {},
   "source": [
    "# Nhận xét:\n",
    "Phương pháp vét cạn chậm hơn hẳn 2 phương pháp còn lại ở cả 2 thang đo. Với n chỉ tầm 300 đổ lại thì không có nhiều khác biệt giữa phương pháp Jarvis và phương pháp dùng hệ số góc."
   ]
  }
 ],
 "metadata": {
  "kernelspec": {
   "display_name": "hieunmt",
   "language": "python",
   "name": "python3"
  },
  "language_info": {
   "codemirror_mode": {
    "name": "ipython",
    "version": 3
   },
   "file_extension": ".py",
   "mimetype": "text/x-python",
   "name": "python",
   "nbconvert_exporter": "python",
   "pygments_lexer": "ipython3",
   "version": "3.9.12"
  },
  "orig_nbformat": 4,
  "vscode": {
   "interpreter": {
    "hash": "c52223611fc367b5bc34b9714777e7b1151d41d20385aaa22044be81e782e16f"
   }
  }
 },
 "nbformat": 4,
 "nbformat_minor": 2
}
